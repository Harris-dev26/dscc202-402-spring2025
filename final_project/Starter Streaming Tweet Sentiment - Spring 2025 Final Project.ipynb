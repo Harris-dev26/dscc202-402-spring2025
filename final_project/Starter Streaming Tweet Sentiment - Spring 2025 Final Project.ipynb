{
 "cells": [
  {
   "cell_type": "markdown",
   "metadata": {
    "application/vnd.databricks.v1+cell": {
     "cellMetadata": {
      "byteLimit": 2048000,
      "rowLimit": 10000
     },
     "inputWidgets": {},
     "nuid": "fc749083-2211-485c-943f-640e198b2c70",
     "showTitle": false,
     "tableResultSettingsMap": {},
     "title": ""
    }
   },
   "source": [
    "## DSCC202-402 Data Science at Scale Final Project\n",
    "### Tracking Tweet sentiment at scale using a pretrained transformer (classifier)\n",
    "<p>Consider the following illustration of the end to end system that you will be building.  Each student should do their own work.  The project will demonstrate your understanding of Spark Streaming, the medalion data architecture using Delta Lake, Spark Inference at Scale using an MLflow packaged model as well as Exploritory Data Analysis and System Tracking and Monitoring.</p>\n",
    "<br><br>\n",
    "<img src=\"https://data-science-at-scale.s3.amazonaws.com/images/pipeline.drawio.png\">\n",
    "\n",
    "<p>\n",
    "You will be pulling an updated copy of the course GitHub repositiory: <a href=\"https://github.com/lpalum/dscc202-402-spring2025\">The Repo</a>.  \n",
    "\n",
    "Once you have updated your fork of the repository you should see the following template project that is resident in the final_project directory.\n",
    "</p>\n",
    "\n",
    "<img src=\"https://data-science-at-scale.s3.amazonaws.com/images/notebooks.drawio.png\">\n",
    "\n",
    "<p>\n",
    "You can then pull your project into the Databrick Workspace using the <a href=\"https://github.com/apps/databricks\">Databricks App on Github</a> or by cloning the repo to your laptop and then uploading the final_project directory and its contents to your workspace using file imports.  Your choice.\n",
    "\n",
    "<p>\n",
    "Work your way through this notebook which will give you the steps required to submit a complete and compliant project.  The following illustration and associated data dictionary specifies the transformations and data that you are to generate for each step in the medallion pipeline.\n",
    "</p>\n",
    "<br><br>\n",
    "<img src=\"https://data-science-at-scale.s3.amazonaws.com/images/dataframes.drawio.png\">\n",
    "\n",
    "#### Bronze Data - raw ingest\n",
    "- date - string in the source json\n",
    "- user - string in the source json\n",
    "- text - tweet string in the source json\n",
    "- sentiment - the given sentiment of the text as determined by an unknown model that is provided in the source json\n",
    "- source_file - the path of the source json file the this row of data was read from\n",
    "- processing_time - a timestamp of when you read this row from the source json\n",
    "\n",
    "#### Silver Data - Bronze Preprocessing\n",
    "- timestamp - convert date string in the bronze data to a timestamp\n",
    "- mention - every @username mentioned in the text string in the bronze data gets a row in this silver data table.\n",
    "- cleaned_text - the bronze text data with the mentions (@username) removed.\n",
    "- sentiment - the given sentiment that was associated with the text in the bronze table.\n",
    "\n",
    "#### Gold Data - Silver Table Inference\n",
    "- timestamp - the timestamp from the silver data table rows\n",
    "- mention - the mention from the silver data table rows\n",
    "- cleaned_text - the cleaned_text from the silver data table rows\n",
    "- sentiment - the given sentiment from the silver data table rows\n",
    "- predicted_score - score out of 100 from the Hugging Face Sentiment Transformer\n",
    "- predicted_sentiment - string representation of the sentiment\n",
    "- sentiment_id - 0 for negative and 1 for postive associated with the given sentiment\n",
    "- predicted_sentiment_id - 0 for negative and 1 for positive assocaited with the Hugging Face Sentiment Transformer\n",
    "\n",
    "#### Application Data - Gold Table Aggregation\n",
    "- min_timestamp - the oldest timestamp on a given mention (@username)\n",
    "- max_timestamp - the newest timestamp on a given mention (@username)\n",
    "- mention - the user (@username) that this row pertains to.\n",
    "- negative - total negative tweets directed at this mention (@username)\n",
    "- neutral - total neutral tweets directed at this mention (@username)\n",
    "- positive - total positive tweets directed at this mention (@username)\n",
    "\n",
    "When you are designing your approach, one of the main decisions that you will need to make is how you are going to orchestrate the streaming data processing in your pipeline.  There are several valid approaches to triggering your steams and how you will gate the execution of your pipeline.  Think through how you want to proceed and ask questions if you need guidance. The following references may be helpful:\n",
    "- [Spark Structured Streaming Programming Guide](https://spark.apache.org/docs/latest/structured-streaming-programming-guide.html)\n",
    "- [Databricks Autoloader - Cloudfiles](https://docs.databricks.com/en/ingestion/auto-loader/index.html)\n",
    "- [In class examples - Spark Structured Streaming Performance](https://dbc-f85bdc5b-07db.cloud.databricks.com/editor/notebooks/2638424645880316?o=1093580174577663)\n",
    "\n",
    "### Be sure your project runs end to end when *Run all* is executued on this notebook! (7 points)\n",
    "\n",
    "### This project is worth 25% of your final grade.\n",
    "- DSCC-202 Students have 55 possible points on this project (see points above and the instructions below)\n",
    "- DSCC-402 Students have 60 possible points on this project (one extra section to complete)"
   ]
  },
  {
   "cell_type": "code",
   "execution_count": 0,
   "metadata": {
    "application/vnd.databricks.v1+cell": {
     "cellMetadata": {
      "byteLimit": 2048000,
      "rowLimit": 10000
     },
     "inputWidgets": {},
     "nuid": "068f25d0-1387-4342-89cf-ce82a8d614ce",
     "showTitle": true,
     "tableResultSettingsMap": {},
     "title": "Pull in the Includes & Utiltites"
    }
   },
   "outputs": [],
   "source": [
    "%run ./includes/includes"
   ]
  },
  {
   "cell_type": "code",
   "execution_count": 0,
   "metadata": {
    "application/vnd.databricks.v1+cell": {
     "cellMetadata": {
      "byteLimit": 2048000,
      "rowLimit": 10000
     },
     "inputWidgets": {},
     "nuid": "6512bf1b-50e0-4a4b-84a9-e280a6260b56",
     "showTitle": true,
     "tableResultSettingsMap": {},
     "title": "Notebook Control Widgets (maybe helpful)"
    }
   },
   "outputs": [],
   "source": [
    "\"\"\"\n",
    "Adding a widget to the notebook to control the clearing of a previous run.\n",
    "or stopping the active streams using routines defined in the utilities notebook\n",
    "\"\"\"\n",
    "dbutils.widgets.removeAll()\n",
    "\n",
    "dbutils.widgets.dropdown(\"clear_previous_run\", \"No\", [\"No\",\"Yes\"])\n",
    "if (getArgument(\"clear_previous_run\") == \"Yes\"):\n",
    "    clear_previous_run()\n",
    "    print(\"Cleared all previous data.\")\n",
    "\n",
    "dbutils.widgets.dropdown(\"stop_streams\", \"No\", [\"No\",\"Yes\"])\n",
    "if (getArgument(\"stop_streams\") == \"Yes\"):\n",
    "    stop_all_streams()\n",
    "    print(\"Stopped all active streams.\")\n",
    "\n",
    "dbutils.widgets.dropdown(\"optimize_tables\", \"No\", [\"No\",\"Yes\"])\n",
    "if (getArgument(\"optimize_tables\") == \"Yes\"):\n",
    "    # Suck up those small files that we have been appending.\n",
    "    # Optimize the tables\n",
    "    optimize_table(BRONZE_DELTA)\n",
    "    optimize_table(SILVER_DELTA)\n",
    "    optimize_table(GOLD_DELTA)\n",
    "    print(\"Optimized all of the Delta Tables\")"
   ]
  },
  {
   "cell_type": "markdown",
   "metadata": {
    "application/vnd.databricks.v1+cell": {
     "cellMetadata": {
      "byteLimit": 2048000,
      "rowLimit": 10000
     },
     "inputWidgets": {},
     "nuid": "e8ce7c13-7f8f-4e11-b50c-fdaebbcf3f99",
     "showTitle": false,
     "tableResultSettingsMap": {},
     "title": ""
    }
   },
   "source": [
    "## 1.0 Import your libraries here (2 points)\n",
    "- Are your shuffle partitions consistent with your cluster and your workload?\n",
    "- Do you have the necessary libraries to perform the required operations in the pipeline/application?"
   ]
  },
  {
   "cell_type": "code",
   "execution_count": 0,
   "metadata": {
    "application/vnd.databricks.v1+cell": {
     "cellMetadata": {
      "byteLimit": 2048000,
      "rowLimit": 10000
     },
     "inputWidgets": {},
     "nuid": "67bafbb7-d34e-4e86-b159-b2e062faa1d0",
     "showTitle": false,
     "tableResultSettingsMap": {},
     "title": ""
    }
   },
   "outputs": [],
   "source": [
    "import os\n",
    "import re\n",
    "import time\n",
    "from datetime import datetime\n",
    "\n",
    "import numpy as np\n",
    "import pandas as pd\n",
    "import matplotlib.pyplot as plt\n",
    "\n",
    "from delta.tables import DeltaTable\n",
    "import mlflow\n",
    "import mlflow.pyfunc\n",
    "\n",
    "from pyspark.sql.functions import (\n",
    "    input_file_name,\n",
    "    current_timestamp,\n",
    "    regexp_replace,\n",
    "    to_timestamp,\n",
    "    expr,\n",
    "    explode,\n",
    "    col,\n",
    "    when,\n",
    "    rand,\n",
    "    lit,\n",
    "    sum as spark_sum,\n",
    "    size,\n",
    "    count,\n",
    "    desc\n",
    ")\n",
    "\n",
    "from pyspark.sql.types import StructType, StructField, StringType\n",
    "from sklearn.metrics import precision_score, recall_score, f1_score, confusion_matrix\n",
    "\n",
    "\n",
    "# Next I will set the number of partitions, since I have 2 nodes with 8 cores total, so 16 should be a good balance keeping workers not too busy but occupied.\n",
    "spark.conf.set(\"spark.sql.shuffle.partitions\", 16)"
   ]
  },
  {
   "cell_type": "markdown",
   "metadata": {
    "application/vnd.databricks.v1+cell": {
     "cellMetadata": {
      "byteLimit": 2048000,
      "rowLimit": 10000
     },
     "inputWidgets": {},
     "nuid": "2b7624b4-0aa5-46b7-9767-52f462b2c574",
     "showTitle": false,
     "tableResultSettingsMap": {},
     "title": ""
    }
   },
   "source": [
    "## 2.0 Define and execute utility functions (3 points)\n",
    "- Read the source file directory listing\n",
    "- Count the source files (how many are there?)\n",
    "- print the contents of one of the files"
   ]
  },
  {
   "cell_type": "code",
   "execution_count": 0,
   "metadata": {
    "application/vnd.databricks.v1+cell": {
     "cellMetadata": {
      "byteLimit": 2048000,
      "rowLimit": 10000
     },
     "inputWidgets": {},
     "nuid": "a59749d5-e45d-460f-9be1-33652cda2ea5",
     "showTitle": false,
     "tableResultSettingsMap": {},
     "title": ""
    }
   },
   "outputs": [],
   "source": [
    "# I read the source files\n",
    "file_directory = dbutils.fs.ls(TWEET_SOURCE_PATH)\n",
    "\n",
    "# I count the files using a simple len function\n",
    "total_num = len(file_directory)\n",
    "print(f\"There are {total_num} files\")\n",
    "\n",
    "# I display the contents of any single file (in this case the first one)\n",
    "first_file_path = file_directory[0].path\n",
    "print(\"\\nContents of the first file:\")\n",
    "spark.read.text(first_file_path).display()"
   ]
  },
  {
   "cell_type": "code",
   "execution_count": 0,
   "metadata": {
    "application/vnd.databricks.v1+cell": {
     "cellMetadata": {
      "byteLimit": 2048000,
      "rowLimit": 10000
     },
     "inputWidgets": {},
     "nuid": "dcc1a54f-5841-4452-8ebe-407833339559",
     "showTitle": false,
     "tableResultSettingsMap": {},
     "title": ""
    }
   },
   "outputs": [],
   "source": [
    "# just checking to make sure the data is right\n",
    "sample = spark.read.text(first_file_path) \n",
    "sample.show(n=1, truncate=False)"
   ]
  },
  {
   "cell_type": "markdown",
   "metadata": {
    "application/vnd.databricks.v1+cell": {
     "cellMetadata": {
      "byteLimit": 2048000,
      "rowLimit": 10000
     },
     "inputWidgets": {},
     "nuid": "1676aed7-527f-4ea7-9d3b-52544e8c1e37",
     "showTitle": false,
     "tableResultSettingsMap": {},
     "title": ""
    }
   },
   "source": [
    "## 3.0 Transform the Raw Data to Bronze Data using a stream  (8 points)\n",
    "- define the schema for the raw data\n",
    "- setup a read stream using cloudfiles and the source data format\n",
    "- setup a write stream using delta lake to append to the bronze delta table\n",
    "- enforce schema\n",
    "- allow a new schema to be merged into the bronze delta table\n",
    "- Use the defined BRONZE_CHECKPOINT and BRONZE_DELTA paths defined in the includes\n",
    "- name your raw to bronze stream as bronze_stream\n",
    "- transform the raw data to the bronze data using the data definition at the top of the notebook"
   ]
  },
  {
   "cell_type": "code",
   "execution_count": 0,
   "metadata": {
    "application/vnd.databricks.v1+cell": {
     "cellMetadata": {
      "byteLimit": 2048000,
      "rowLimit": 10000
     },
     "inputWidgets": {},
     "nuid": "c4e37574-9885-4908-bf97-609d140a8818",
     "showTitle": false,
     "tableResultSettingsMap": {},
     "title": ""
    }
   },
   "outputs": [],
   "source": [
    "# So firstly I define the schema I need to use for the bronze data (all are string)\n",
    "Schema_raw  = StructType([\n",
    "    StructField(\"date\",      StringType(), True),    \n",
    "    StructField(\"user\",      StringType(), True),   \n",
    "    StructField(\"text\",      StringType(), True),   \n",
    "    StructField(\"sentiment\", StringType(), True)  \n",
    "    # I will be adding the two additional metrics later as they are, derivative metrics of the stream   \n",
    "])\n",
    "\n",
    "# Next I set up a read‐stream with cloudFiles, and also enforcing the schema\n",
    "raw_stream = (\n",
    "    spark.readStream\n",
    "         .format(\"cloudFiles\")                \n",
    "         .option(\"cloudFiles.format\", \"json\")  \n",
    "         .schema(Schema_raw)            # enforcing the schema        \n",
    "         .load(TWEET_SOURCE_PATH)             # using the source directory path here\n",
    ")\n",
    "\n",
    "# transforming the raw data to the bronze data (also adding the two new columns)\n",
    "bronze_df = raw_stream.select(\n",
    "    \"date\", \n",
    "    \"user\", \n",
    "    \"text\", \n",
    "    \"sentiment\").withColumn(\"source_file\", input_file_name()).withColumn(\"processing_time\", current_timestamp())\n",
    "\n",
    "bronze_clean = bronze_df.na.drop() # cleaning the data here, becuase another question later asks me on how I should be doing it ((ANS) by dropping the nulls)\n",
    "\n",
    "# lastly I setup a write stream (named it bronze stream)\n",
    "bronze_stream = (\n",
    "\n",
    "    bronze_clean.writeStream\n",
    "             .format(\"delta\")  # just using the delta format\n",
    "             .option(\"checkpointLocation\", BRONZE_CHECKPOINT)  # using checkpoint\n",
    "             .option(\"mergeSchema\", \"true\")          #  as the markdown above said, Im also allowing schema merging\n",
    "             .queryName(\"bronze\")                      #  I gave this name so that I can easily query later for monitoring\n",
    "             .outputMode(\"append\")                   # specifying to be in append mode  \n",
    "             .start(BRONZE_DELTA)                    # using the defined Bronze Delta path\n",
    "\n",
    ")"
   ]
  },
  {
   "cell_type": "markdown",
   "metadata": {
    "application/vnd.databricks.v1+cell": {
     "cellMetadata": {
      "byteLimit": 2048000,
      "rowLimit": 10000
     },
     "inputWidgets": {},
     "nuid": "f94a594e-1a85-458f-9fe8-959e06d2e5f0",
     "showTitle": false,
     "tableResultSettingsMap": {},
     "title": ""
    }
   },
   "source": [
    "## 4.0 Transform the Bronze Data to Silver Data using a stream (5 points)\n",
    "- setup a read stream on your bronze delta table\n",
    "- setup a write stream to append to the silver delta table\n",
    "- Use the defined SILVER_CHECKPOINT and SILVER_DELTA paths in the includes\n",
    "- name your bronze to silver stream as silver_stream\n",
    "- transform the bronze data to the silver data using the data definition at the top of the notebook"
   ]
  },
  {
   "cell_type": "code",
   "execution_count": 0,
   "metadata": {
    "application/vnd.databricks.v1+cell": {
     "cellMetadata": {
      "byteLimit": 2048000,
      "rowLimit": 10000
     },
     "inputWidgets": {},
     "nuid": "047dbc06-7f3a-46aa-9ce9-81cf50ae566a",
     "showTitle": false,
     "tableResultSettingsMap": {},
     "title": ""
    }
   },
   "outputs": [],
   "source": [
    "# Enabling legacy time parser to avoid Spark ≥3.0 datetime pattern errors, it was giving me errors otherwise for string to timestamp conversion, and the output was NAN for date in silver data, if i did not do this.\n",
    "spark.conf.set(\"spark.sql.legacy.timeParserPolicy\", \"LEGACY\")"
   ]
  },
  {
   "cell_type": "code",
   "execution_count": 0,
   "metadata": {
    "application/vnd.databricks.v1+cell": {
     "cellMetadata": {
      "byteLimit": 2048000,
      "rowLimit": 10000
     },
     "inputWidgets": {},
     "nuid": "091ec59c-d968-4acf-b56f-cc9178cd0693",
     "showTitle": false,
     "tableResultSettingsMap": {},
     "title": ""
    }
   },
   "outputs": [],
   "source": [
    "time.sleep(30) # manually delaying the starting fo the next stream to make sure the bronze table is ready for the next stream\n",
    "\n",
    "\n",
    "# setting up a read stream from the Bronze Delta table\n",
    "bronze_df = (\n",
    "\n",
    "    spark.readStream\n",
    "         .format(\"delta\")        # setting source and just loading from the pre given variable where i did a write stream before\n",
    "         .load(BRONZE_DELTA)    \n",
    "\n",
    ")\n",
    "\n",
    "\n",
    "# Transforming the Bronze into Silver \n",
    "silver_df = (\n",
    "\n",
    "    # So I need to do 4 main things:\n",
    "    # a) Converitng strings to timstamps\n",
    "    # b) Extracting mentions\n",
    "    # c) Cleaning the mentions\n",
    "    # d) just take sentiment as it is\n",
    "\n",
    "    bronze_df\n",
    "\n",
    "      # # removing a offset created by letters between year and time\n",
    "      .withColumn(\n",
    "          \"no_token_date\",\n",
    "          regexp_replace(\"date\", r\" [A-Z]{3} \", \" \")  \n",
    "          # so after looking at intemrdeiate output this takes imput of somehting like \"Mon May 12 22:19:49 PDT 2025\" and makes it \"Mon May 12 22:19:49 2025\"\n",
    "      )\n",
    "      # Then i just convert it to timestamp using the write format\n",
    "      .withColumn(\n",
    "          \"timestamp\",\n",
    "          to_timestamp(\"no_token_date\", \"EEE MMM dd HH:mm:ss yyyy\")\n",
    "      )\n",
    "\n",
    "\n",
    "\n",
    "      # I use expr function to get an array of mentions (because there can be more than 1), using regex pattern to identify anything with @\n",
    "      .withColumn(\n",
    "          \"mentions_array\",\n",
    "          expr(\"regexp_extract_all(text, '@[A-Za-z0-9_]+', 0)\")\n",
    "      )\n",
    "      # then I just explode the mentions array to make multiple rows for each mention\n",
    "      .withColumn(\"mention\", explode(\"mentions_array\"))\n",
    "\n",
    "\n",
    "\n",
    "      # using a regex pattern that replaces anyhting with \"@\" infront of it with a blank space\n",
    "      .withColumn(\n",
    "          \"cleaned_text\",\n",
    "          regexp_replace(\"text\", \"@[A-Za-z0-9_]+\", \"\")\n",
    "      )\n",
    "\n",
    "\n",
    "      # lastly I just select the columns I want cleaned/transformed and the sentiments column\n",
    "      .select(\n",
    "          \"timestamp\",    # parsed event time\n",
    "          \"mention\",      # single @username per row\n",
    "          \"cleaned_text\", # text with mentions removed\n",
    "          \"sentiment\"     # sentiment label from Bronze\n",
    "      )\n",
    ")\n",
    "\n",
    "\n",
    "\n",
    "#  setting up the write stream with appropriate includes also namin it silver stream\n",
    "silver_stream = (\n",
    "\n",
    "    silver_df.writeStream\n",
    "             .format(\"delta\")                               \n",
    "             .option(\"checkpointLocation\", SILVER_CHECKPOINT)  # Silver checkpoint path\n",
    "             .option(\"mergeSchema\", \"true\")                 # again allowing for future merging\n",
    "             .outputMode(\"append\")                          # seting output mode\n",
    "             .queryName(\"silver\")                           # naming for monitoring later on\n",
    "             .start(SILVER_DELTA)                           # path to Silver Delta\n",
    "\n",
    ")"
   ]
  },
  {
   "cell_type": "markdown",
   "metadata": {
    "application/vnd.databricks.v1+cell": {
     "cellMetadata": {
      "byteLimit": 2048000,
      "rowLimit": 10000
     },
     "inputWidgets": {},
     "nuid": "9ee38aba-e340-4766-8339-71ef2ecfde3a",
     "showTitle": false,
     "tableResultSettingsMap": {},
     "title": ""
    }
   },
   "source": [
    "## 5.0 Transform the Silver Data to Gold Data using a stream (7 points)\n",
    "- setup a read stream on your silver delta table\n",
    "- setup a write stream to append to the gold delta table\n",
    "- Use the defined GOLD_CHECKPOINT and GOLD_DELTA paths defines in the includes\n",
    "- name your silver to gold stream as gold_stream\n",
    "- transform the silver data to the gold data using the data definition at the top of the notebook\n",
    "- Load the pretrained transformer sentiment classifier from the MODEL_NAME at the production level from the MLflow registry\n",
    "- Use a spark UDF to parallelize the inference across your silver data"
   ]
  },
  {
   "cell_type": "code",
   "execution_count": 0,
   "metadata": {
    "application/vnd.databricks.v1+cell": {
     "cellMetadata": {
      "byteLimit": 2048000,
      "rowLimit": 10000
     },
     "inputWidgets": {},
     "nuid": "31e8949d-c016-44a7-9f03-65f471dfd22d",
     "showTitle": false,
     "tableResultSettingsMap": {},
     "title": ""
    }
   },
   "outputs": [],
   "source": [
    "time.sleep(30) # again delaying so that gold stream can get a silver table\n",
    "\n",
    "# calling the model in production mode, and using a spark udf to use it to parallelize inference later on\n",
    "production_lvl_model = f\"models:/{MODEL_NAME}/production\"\n",
    "sentiment_udf = mlflow.pyfunc.spark_udf(spark, production_lvl_model)\n",
    "\n",
    "\n",
    "# will be chaining the read, transformation and write into one \n",
    "gold_stream = (\n",
    "\n",
    "    spark.readStream # standard read stream just getting the silver data from that table.\n",
    "         .format(\"delta\")                         \n",
    "         .load(SILVER_DELTA)\n",
    "\n",
    "\n",
    "        # next I use the model to infer and get the next columns for the gold table  \n",
    "\n",
    "      .withColumn(\"predictions\", sentiment_udf(col(\"cleaned_text\")))  # running the inference with cleaned text as the input\n",
    "\n",
    "      .withColumn(\"predicted_score\", col(\"predictions\").getField(\"score\") * 100) # from the predictions I get the score and scale it\n",
    "      .withColumn(\"predicted_sentiment\", col(\"predictions\").getField(\"label\")) # I also get the predcition label\n",
    "\n",
    "\n",
    "        # so I recognize the fact that the model outputs 3 possible outputs, so I map them to just two outputs as mentioned in the data definition.\n",
    "\n",
    "\n",
    "      .withColumn(\"predicted_sentiment_id\",                           \n",
    "          when(col(\"predicted_sentiment\") == \"POS\", lit(1)) # if its an output \"POS\" i map to 1\n",
    "         .when(col(\"predicted_sentiment\") == \"NEG\", lit(0)) # if its an output \"NEG\" i map to 0\n",
    "         .when(col(\"predicted_sentiment\") == \"NEU\",\n",
    "               \n",
    "               # if its neutral I just flip a coin to go either way\n",
    "               when(rand() < 0.5, lit(1)).otherwise(lit(0)))\n",
    "      )\n",
    "\n",
    "        # same for the original seentiment_id\n",
    "      .withColumn(\"sentiment_id\",                                      \n",
    "          when(col(\"sentiment\") == \"positive\", lit(1)) # if its an output \"POS\" i map to 1\n",
    "         .when(col(\"sentiment\") == \"negative\", lit(0)) # if its an output \"NEG\" i map to 0\n",
    "         .when(col(\"sentiment\") == \"neutral\",\n",
    "               \n",
    "                # if its neutral I just flip a coin to go either way\n",
    "               when(rand() < 0.5, lit(1)).otherwise(lit(0)))\n",
    "      )\n",
    "\n",
    "\n",
    "        # now that i have everything I want I just select the columns I want\n",
    "      .select(                                                     \n",
    "          \"timestamp\",\n",
    "          \"mention\",\n",
    "          \"cleaned_text\",\n",
    "          \"sentiment\",\n",
    "          \"predicted_score\",\n",
    "          \"predicted_sentiment\",\n",
    "          \"sentiment_id\",\n",
    "          \"predicted_sentiment_id\"\n",
    "      )\n",
    "\n",
    "        # lastly I setup a write stream\n",
    "      .writeStream                                                  \n",
    "         .format(\"delta\")\n",
    "         .option(\"checkpointLocation\", GOLD_CHECKPOINT) \n",
    "         .option(\"mergeSchema\", \"true\")\n",
    "         .outputMode(\"append\")\n",
    "         .queryName(\"gold\")\n",
    "         .start(GOLD_DELTA)\n",
    "\n",
    "\n",
    ")\n"
   ]
  },
  {
   "cell_type": "markdown",
   "metadata": {
    "application/vnd.databricks.v1+cell": {
     "cellMetadata": {
      "byteLimit": 2048000,
      "rowLimit": 10000
     },
     "inputWidgets": {},
     "nuid": "05cd829f-46d6-4d94-8555-887d29a33daf",
     "showTitle": false,
     "tableResultSettingsMap": {},
     "title": ""
    }
   },
   "source": [
    "## 6.0 Monitor your Streams (5 points)\n",
    "- Setup a loop that runs at least every 10 seconds\n",
    "- Print a timestamp of the monitoring query along with the list of streams, rows processed on each, and the processing time on each\n",
    "- Run the loop until all of the data is processed (0 rows read on each active stream)\n",
    "- Plot a line graph that shows the data processed by each stream over time\n",
    "- Plot a line graph that shows the average processing time on each stream over time"
   ]
  },
  {
   "cell_type": "code",
   "execution_count": 0,
   "metadata": {
    "application/vnd.databricks.v1+cell": {
     "cellMetadata": {
      "byteLimit": 2048000,
      "rowLimit": 10000
     },
     "inputWidgets": {},
     "nuid": "acbddf2c-0c20-46d9-aa42-c5aed3e2f839",
     "showTitle": false,
     "tableResultSettingsMap": {},
     "title": ""
    }
   },
   "outputs": [],
   "source": [
    "time.sleep(30) # just to be safe\n",
    "\n",
    "records = []\n",
    "seen_nonzero = False\n",
    "\n",
    "\n",
    "\n",
    "while True:\n",
    "\n",
    "    time_right_now = datetime.now()\n",
    "    timestamp = time_right_now.strftime(\"%Y-%m-%d %H:%M:%S\")\n",
    "    active = spark.streams.active\n",
    "\n",
    "\n",
    "\n",
    "\n",
    "    print(f\"\\n[{timestamp}] Status of Streams:\")\n",
    "   \n",
    "\n",
    "    check_1 = True\n",
    "\n",
    "    for i in active:\n",
    "\n",
    "        prog = i.lastProgress or {}\n",
    "\n",
    "        # getting number of rows currently being inputted and processed\n",
    "        num_rows = prog.get(\"numInputRows\", 0)\n",
    "\n",
    "        #  Batch Duration extraction from stream progress (MS)\n",
    "        durations = prog.get(\"durationMs\", {})\n",
    "        processing_time = durations.get(\"triggerExecution\", prog.get(\"batchDurationMs\", 0))\n",
    "\n",
    "        # prinitng it\n",
    "        print(f\" – {i.name}: rows inputted = {num_rows}, proccesing time (ms) = {processing_time}\")\n",
    "\n",
    "        # appening it for later grpahing\n",
    "        records.append({\n",
    "            \"timestamp\": time_right_now,\n",
    "            \"stream\": i.name,\n",
    "            \"num_rows\": num_rows,\n",
    "            \"processing time (ms)\": processing_time\n",
    "        })\n",
    "\n",
    "        # chekcing if we still have rows left\n",
    "        if num_rows > 0:\n",
    "            check_2 = True\n",
    "            check_1 = False\n",
    "\n",
    "    if check_2 and check_1:\n",
    "        print(f\"[{timestamp}] All data has been processed by streams\")\n",
    "        break\n",
    "\n",
    "    # if rows remain we do it again after 10 secs\n",
    "    time.sleep(10)\n",
    "\n",
    "\n",
    "\n",
    "\n",
    "# converitnng the records columsn into a df for prcessing\n",
    "df = pd.DataFrame(records)\n",
    "df[\"timestamp\"] = pd.to_datetime(df[\"timestamp\"])\n",
    "\n",
    "\n",
    "\n",
    "# rows processed by time\n",
    "plt.figure(figsize=(15, 8))\n",
    "\n",
    "for name, grp in df.groupby(\"stream\"):\n",
    "    plt.plot(grp[\"timestamp\"], grp[\"num_rows\"], marker=\"o\", label=name)\n",
    "# -------------------------------------------------------------------------\n",
    "plt.title(\"Data Processed Over Time\")\n",
    "plt.xlabel(\"Timestamps\")\n",
    "plt.ylabel(\"Rows being input\")\n",
    "plt.legend(loc=\"best\")\n",
    "plt.xticks(rotation=45)\n",
    "plt.tight_layout()\n",
    "plt.show()\n",
    "\n",
    "\n",
    "\n",
    "\n",
    "\n",
    "# processing time graph\n",
    "plt.figure(figsize=(15, 8))\n",
    "\n",
    "for name, grp in df.groupby(\"stream\"):\n",
    "    plt.plot(grp[\"timestamp\"], grp[\"processing time (ms)\"], marker=\"o\", label=name)\n",
    "# -------------------------------------------------------------------------\n",
    "plt.title(\"Processing Time Over Time\")\n",
    "plt.xlabel(\"Timestamp\")\n",
    "plt.ylabel(\"processing Time (ms)\")\n",
    "plt.legend(loc=\"best\")\n",
    "plt.xticks(rotation=45)\n",
    "plt.tight_layout()\n",
    "plt.show()"
   ]
  },
  {
   "cell_type": "markdown",
   "metadata": {
    "application/vnd.databricks.v1+cell": {
     "cellMetadata": {
      "byteLimit": 2048000,
      "rowLimit": 10000
     },
     "inputWidgets": {},
     "nuid": "9bc3e824-d218-43e5-a43b-4c6dbe31950d",
     "showTitle": false,
     "tableResultSettingsMap": {},
     "title": ""
    }
   },
   "source": [
    "## 7.0 Bronze Data Exploratory Data Analysis (5 points)\n",
    "- How many tweets are captured in your Bronze Table?\n",
    "- Are there any columns that contain Nan or Null values?  If so how many and what will you do in your silver transforms to address this?\n",
    "- Count the number of tweets by each unique user handle and sort the data by descending count.\n",
    "- How many tweets have at least one mention (@) how many tweet have no mentions (@)\n",
    "- Plot a bar chart that shows the top 20 tweeters (users)\n"
   ]
  },
  {
   "cell_type": "code",
   "execution_count": 0,
   "metadata": {
    "application/vnd.databricks.v1+cell": {
     "cellMetadata": {
      "byteLimit": 2048000,
      "rowLimit": 10000
     },
     "inputWidgets": {},
     "nuid": "33e05866-0264-43af-8a95-52e841124d60",
     "showTitle": false,
     "tableResultSettingsMap": {},
     "title": ""
    }
   },
   "outputs": [],
   "source": [
    "bronze_table = spark.read.format(\"delta\").load(BRONZE_DELTA)\n",
    "\n",
    "# How many tweets are captured in the bronze table?\n",
    "total_tweets = bronze_table.count()\n",
    "print(f\"Total tweets in Bronze table are {total_tweets}\")\n",
    "\n",
    "\n",
    "# Null columns?\n",
    "null_counts = bronze_table.agg(\n",
    "    *[\n",
    "        spark_sum(\n",
    "            (col(c).isNull() | (col(c) == \"\")).cast(\"int\")\n",
    "        ).alias(c)\n",
    "        for c in bronze_table.columns\n",
    "    ]\n",
    ")\n",
    "\n",
    "print(\"Null counts per column:\")\n",
    "null_counts.show()\n",
    "\n",
    "print(\"I think a pretty straight forward way is to just drop the rows with NANs, keeping in mind we have a lot of data, and also becuase we are using a pre trained modelso data isnt a huge issues for us, I have done exactly this in the bronze to silver transformation.\")\n",
    "\n",
    "\n",
    "\n",
    "#  Tweets by unique user handle in descending count\n",
    "unique_user = bronze_table.groupBy(\"user\").count().orderBy(col(\"count\").desc())\n",
    "print(\"Top users by tweet count (descending order):\")\n",
    "unique_user.show()\n",
    "\n",
    "\n",
    "\n",
    "\n",
    "\n",
    "\n",
    "# Tweets with and without mentions\n",
    "\n",
    "# again with the regex pattern to get an array of mentions\n",
    "mentions_df = bronze_table.withColumn(\"mentions_array\", expr(\"regexp_extract_all(text, '@[A-Za-z0-9_]+', 0)\")).withColumn(\"num_mentions\", size(col(\"mentions_array\")))\n",
    "\n",
    "# define with and without based of what the arrray looks like, either empty or not\n",
    "tweets_with = mentions_df.filter(col(\"num_mentions\") > 0).count()\n",
    "tweets_without = mentions_df.filter(col(\"num_mentions\") == 0).count()\n",
    "\n",
    "# print the counts\n",
    "print(f\"Tweets with at least one mention: {tweets_with}\")\n",
    "print(f\"Tweets with no mentions: {tweets_without}\")\n",
    "\n",
    "\n",
    "# Plot a bar chart that shows the top 20 users (assuming this is just a grpah of what i was aggregating above)\n",
    "top20 = unique_user.limit(20).toPandas()\n",
    "\n",
    "plt.figure(figsize=(15, 8))\n",
    "plt.bar(top20['user'], top20['count'])\n",
    "plt.title(\"Top 20 Tweeters by Tweet Count\")\n",
    "plt.xticks(rotation=90)\n",
    "plt.xlabel(\"User's handle\")\n",
    "plt.ylabel(\"Number of Tweets\")\n",
    "plt.tight_layout()\n",
    "plt.show()\n"
   ]
  },
  {
   "cell_type": "markdown",
   "metadata": {
    "application/vnd.databricks.v1+cell": {
     "cellMetadata": {
      "byteLimit": 2048000,
      "rowLimit": 10000
     },
     "inputWidgets": {},
     "nuid": "0494d8b4-5a55-47fc-af12-47325f34a303",
     "showTitle": false,
     "tableResultSettingsMap": {},
     "title": ""
    }
   },
   "source": [
    "## 8.0 Capture the accuracy metrics from the gold table in MLflow  (4 points)\n",
    "Store the following in an MLflow experiment run:\n",
    "- Store the precision, recall, and F1-score as MLflow metrics\n",
    "- Store an image of the confusion matrix as an MLflow artifact\n",
    "- Store the model name and the MLflow version that was used as an MLflow parameters\n",
    "- Store the version of the Delta Table (input-silver) as an MLflow parameter"
   ]
  },
  {
   "cell_type": "code",
   "execution_count": 0,
   "metadata": {
    "application/vnd.databricks.v1+cell": {
     "cellMetadata": {
      "byteLimit": 2048000,
      "rowLimit": 10000
     },
     "inputWidgets": {},
     "nuid": "3bb174ad-67e4-4b0a-be36-ff20a760ee8b",
     "showTitle": false,
     "tableResultSettingsMap": {},
     "title": ""
    }
   },
   "outputs": [],
   "source": [
    "# first I load the actual gold table so I can calculate the metrics\n",
    "gold_df = spark.read.format(\"delta\").load(GOLD_DELTA)\n",
    "\n",
    "\n",
    "# getting both tthe gold label and what the udf predicted\n",
    "cost_inputs = gold_df.select(\"sentiment_id\", \"predicted_sentiment_id\").collect()\n",
    "y_true = [r[\"sentiment_id\"]            for r in cost_inputs]\n",
    "y_pred = [r[\"predicted_sentiment_id\"]  for r in cost_inputs]\n",
    "\n",
    "\n",
    "\n",
    "# now that i have the two I compute the actual metrics\n",
    "precision = precision_score(y_true, y_pred, average=\"binary\")\n",
    "recall    = recall_score(y_true, y_pred, average=\"binary\")\n",
    "f1        = f1_score(y_true, y_pred, average=\"binary\")\n",
    "\n",
    "# also need to log these params\n",
    "mlflow_version = mlflow.__version__\n",
    "model_name     = MODEL_NAME   \n",
    "silver_table   = DeltaTable.forPath(spark, SILVER_DELTA)\n",
    "silver_version = silver_table.history(1).select(\"version\").first()[0]\n",
    "\n",
    "\n",
    "\n",
    "\n",
    "# start the actual MLflow run\n",
    "with mlflow.start_run() as run:\n",
    "\n",
    "    # loging the 3 metrics\n",
    "    mlflow.log_metric(\"precision\", precision)\n",
    "    mlflow.log_metric(\"recall\", recall)\n",
    "    mlflow.log_metric(\"f1_score\", f1)\n",
    "\n",
    "    # loging the params\n",
    "    mlflow.log_param(\"model_name\", model_name)\n",
    "    mlflow.log_param(\"mlflow_version\", mlflow_version)\n",
    "    mlflow.log_param(\"silver_delta_version\", silver_version)\n",
    "\n",
    "\n",
    "    # making the confusion matrix to log\n",
    "    cm = confusion_matrix(y_true, y_pred)\n",
    "\n",
    "    # making the axis\n",
    "    fig, ax = plt.subplots()\n",
    "    im = ax.imshow(cm, cmap=\"Blues\")\n",
    "    fig.colorbar(im, ax=ax)\n",
    "\n",
    "    # annotating each cell accoridng to the actual confusion matrix\n",
    "    for (i, j), v in np.ndenumerate(cm):\n",
    "        ax.text(j, i, v, ha=\"center\", va=\"center\")\n",
    "\n",
    "    ax.set_xlabel(\"Predicted\")\n",
    "    ax.set_ylabel(\"Actual\")\n",
    "\n",
    "    # save to file and showing in notebook\n",
    "    out = \"/tmp/confusion_matrix.png\"\n",
    "    fig.savefig(out, bbox_inches=\"tight\")\n",
    "    plt.show()\n",
    "\n",
    "    # logging\n",
    "    mlflow.log_artifact(out, artifact_path=\"confusion_matrix\")\n",
    "    plt.close(fig)\n",
    "\n",
    "    print(\"MLflow run params and artifacts logged\")\n"
   ]
  },
  {
   "cell_type": "markdown",
   "metadata": {
    "application/vnd.databricks.v1+cell": {
     "cellMetadata": {
      "byteLimit": 2048000,
      "rowLimit": 10000
     },
     "inputWidgets": {},
     "nuid": "81e0e2de-b872-4698-81cc-1669646c2183",
     "showTitle": false,
     "tableResultSettingsMap": {},
     "title": ""
    }
   },
   "source": [
    "## 9.0 Application Data Processing and Visualization (6 points)\n",
    "- How many mentions are there in the gold data total?\n",
    "- Count the number of neutral, positive and negative tweets for each mention in new columns\n",
    "- Capture the total for each mention in a new column\n",
    "- Sort the mention count totals in descending order\n",
    "- Plot a bar chart of the top 20 mentions with positive sentiment (the people who are in favor)\n",
    "- Plot a bar chart of the top 20 mentions with negative sentiment (the people who are the vilians)\n",
    "\n",
    "*note: A mention is a specific twitter user that has been \"mentioned\" in a tweet with an @user reference."
   ]
  },
  {
   "cell_type": "code",
   "execution_count": 0,
   "metadata": {
    "application/vnd.databricks.v1+cell": {
     "cellMetadata": {
      "byteLimit": 2048000,
      "rowLimit": 10000
     },
     "inputWidgets": {},
     "nuid": "8250667b-eaa5-48a1-90c7-bfe11e666e32",
     "showTitle": false,
     "tableResultSettingsMap": {},
     "title": ""
    }
   },
   "outputs": [],
   "source": [
    "# Reading the Gold Delta table\n",
    "gold_df = spark.read.format(\"delta\").load(GOLD_DELTA)\n",
    "\n",
    "\n",
    "# How many mentions in total?\n",
    "\n",
    "# so i exploded the column in the silver so each mention is in one column\n",
    "total_mentions = gold_df.count()\n",
    "print(f\"Total mentions in Gold: {total_mentions}\")\n",
    "\n",
    "\n",
    "\n",
    "# Counting neutral, positive, and negative tweets per mention and also geting total counts for each\n",
    "mention_stats = (\n",
    "\n",
    "    # i look into the gold table\n",
    "    gold_df.groupBy(\"mention\") # and group every mention \n",
    "\n",
    "      .agg( # then on these emntions i get there counts for how mnay correpsoniding +ve and -ve sentiments they have correpsonding to them.\n",
    "          \n",
    "          count(\"*\").alias(\"total_count\"),\n",
    "          count(when(col(\"sentiment\") == \"positive\", True)).alias(\"positive_count\"),\n",
    "          count(when(col(\"sentiment\") == \"negative\", True)).alias(\"negative_count\")\n",
    "      )\n",
    "\n",
    ")\n",
    "\n",
    "\n",
    "\n",
    "# Sort by total_count descending\n",
    "mention_stats = mention_stats.orderBy(desc(\"total_count\"))\n",
    "mention_stats.show(10, truncate=False)\n",
    "\n",
    "\n",
    "\n",
    "# Plotting top 20 mentions by positive sentiment\n",
    "top20_pos = mention_stats.select(\"mention\", \"positive_count\").limit(20).toPandas()\n",
    "\n",
    "plt.figure(figsize=(15,8))\n",
    "plt.bar(top20_pos[\"mention\"], top20_pos[\"positive_count\"])\n",
    "plt.xticks(rotation=90, ha=\"right\")\n",
    "plt.title(\"Top 20 Mentions by Positive Tweet Count\")\n",
    "plt.xlabel(\"Mentions\")\n",
    "plt.ylabel(\"+ve Tweet Count\")\n",
    "plt.tight_layout()\n",
    "plt.show()\n",
    "\n",
    "\n",
    "\n",
    "# Plotting top 20 mentions by negative sentiment\n",
    "top20_neg = mention_stats.select(\"mention\", \"negative_count\").limit(20).toPandas()\n",
    "\n",
    "plt.figure(figsize=(15,8))\n",
    "plt.bar(top20_neg[\"mention\"], top20_neg[\"negative_count\"])\n",
    "plt.xticks(rotation=90, ha=\"right\")\n",
    "plt.title(\"Top 20 Mentions by Negative Tweet Count\")\n",
    "plt.xlabel(\"Mentions\")\n",
    "plt.ylabel(\"-ve Tweet Count\")\n",
    "plt.tight_layout()\n",
    "plt.show()"
   ]
  },
  {
   "cell_type": "markdown",
   "metadata": {
    "application/vnd.databricks.v1+cell": {
     "cellMetadata": {
      "byteLimit": 2048000,
      "rowLimit": 10000
     },
     "inputWidgets": {},
     "nuid": "5d5add3f-0c13-4d81-86d8-12cf3cfdd2c8",
     "showTitle": false,
     "tableResultSettingsMap": {},
     "title": ""
    }
   },
   "source": [
    "## 10.0 Clean up and completion of your pipeline (3 points)\n",
    "- using the utilities what streams are running? If any.\n",
    "- Stop all active streams\n",
    "- print out the elapsed time of your notebook. Note: In the includes there is a variable START_TIME that captures the starting time of the notebook."
   ]
  },
  {
   "cell_type": "code",
   "execution_count": 0,
   "metadata": {
    "application/vnd.databricks.v1+cell": {
     "cellMetadata": {
      "byteLimit": 2048000,
      "rowLimit": 10000
     },
     "inputWidgets": {},
     "nuid": "0304e685-c26e-447d-b230-c37266f30003",
     "showTitle": false,
     "tableResultSettingsMap": {},
     "title": ""
    }
   },
   "outputs": [],
   "source": [
    "# Listing any active streams\n",
    "active_streams = spark.streams.active\n",
    "\n",
    "if active_streams:\n",
    "    print(\"Active streams:\")\n",
    "    for i in active_streams:\n",
    "        print(f\" -> {i.name} \")\n",
    "\n",
    "else:\n",
    "    print(\"No stream is active.\")\n",
    "\n",
    "\n",
    "\n",
    "# stopping streams\n",
    "stop_all_streams()\n",
    "print(\"All streams have stopped\")\n",
    " \n",
    "\n",
    "# elapsed time\n",
    "seconds_spent = time.time() - START_TIME\n",
    "minutes = int(seconds_spent // 60)\n",
    "seconds = seconds_spent % 60\n",
    "print(f\"Elapsed time: {minutes} mins {seconds} secs\")"
   ]
  },
  {
   "cell_type": "markdown",
   "metadata": {
    "application/vnd.databricks.v1+cell": {
     "cellMetadata": {
      "byteLimit": 2048000,
      "rowLimit": 10000
     },
     "inputWidgets": {},
     "nuid": "b88fc0e5-f50c-4ed1-9480-16a4c8a44b30",
     "showTitle": false,
     "tableResultSettingsMap": {},
     "title": ""
    }
   },
   "source": [
    "## 11.0 How Optimized is your Spark Application (Grad Students Only) (5 points)\n",
    "Graduate students (registered for the DSCC-402 section of the course) are required to do this section.  This is a written analysis using the Spark UI (link to screen shots) that support your analysis of your pipelines execution and what is driving its performance.\n",
    "Recall that Spark Optimization has 5 significant dimensions of considertation:\n",
    "- Spill: write to executor disk due to lack of memory\n",
    "- Skew: imbalance in partition size\n",
    "- Shuffle: network io moving data between executors (wide transforms)\n",
    "- Storage: inefficiency due to disk storage format (small files, location)\n",
    "- Serialization: distribution of code segments across the cluster\n",
    "\n",
    "Comment on each of the dimentions of performance and how your impelementation is or is not being affected.  Use specific information in the Spark UI to support your description.  \n",
    "\n",
    "Note: you can take sreenshots of the Spark UI from your project runs in databricks and then link to those pictures by storing them as a publicly accessible file on your cloud drive (google, one drive, etc.)\n",
    "\n",
    "References:\n",
    "- [Spark UI Reference Reference](https://spark.apache.org/docs/latest/web-ui.html#web-ui)\n",
    "- [Spark UI Simulator](https://www.databricks.training/spark-ui-simulator/index.html)"
   ]
  },
  {
   "cell_type": "markdown",
   "metadata": {
    "application/vnd.databricks.v1+cell": {
     "cellMetadata": {
      "byteLimit": 2048000,
      "rowLimit": 10000
     },
     "inputWidgets": {},
     "nuid": "a0a5707d-a5ca-4e87-9e74-3b13d00337b0",
     "showTitle": false,
     "tableResultSettingsMap": {},
     "title": ""
    }
   },
   "source": [
    "### ENTER YOUR MARKDOWN HERE"
   ]
  }
 ],
 "metadata": {
  "application/vnd.databricks.v1+notebook": {
   "computePreferences": null,
   "dashboards": [],
   "environmentMetadata": null,
   "inputWidgetPreferences": null,
   "language": "python",
   "notebookMetadata": {
    "mostRecentlyExecutedCommandWithImplicitDF": {
     "commandId": -1,
     "dataframes": [
      "_sqldf"
     ]
    },
    "pythonIndentUnit": 4,
    "widgetLayout": [
     {
      "breakBefore": false,
      "name": "clear_previous_run",
      "width": 203
     },
     {
      "breakBefore": false,
      "name": "stop_streams",
      "width": 203
     }
    ]
   },
   "notebookName": "Starter Streaming Tweet Sentiment - Spring 2025 Final Project",
   "widgets": {
    "clear_previous_run": {
     "currentValue": "Yes",
     "nuid": "11b43403-c70f-41ef-ab0e-41172583baaa",
     "typedWidgetInfo": {
      "autoCreated": false,
      "defaultValue": "No",
      "label": null,
      "name": "clear_previous_run",
      "options": {
       "widgetDisplayType": "Dropdown",
       "choices": [
        "No",
        "Yes"
       ],
       "fixedDomain": true,
       "multiselect": false
      },
      "parameterDataType": "String"
     },
     "widgetInfo": {
      "widgetType": "dropdown",
      "defaultValue": "No",
      "label": null,
      "name": "clear_previous_run",
      "options": {
       "widgetType": "dropdown",
       "autoCreated": null,
       "choices": [
        "No",
        "Yes"
       ]
      }
     }
    },
    "optimize_tables": {
     "currentValue": "No",
     "nuid": "d27f2950-3146-4010-8bc6-58c47a93e7a9",
     "typedWidgetInfo": {
      "autoCreated": false,
      "defaultValue": "No",
      "label": null,
      "name": "optimize_tables",
      "options": {
       "widgetDisplayType": "Dropdown",
       "choices": [
        "No",
        "Yes"
       ],
       "fixedDomain": true,
       "multiselect": false
      },
      "parameterDataType": "String"
     },
     "widgetInfo": {
      "widgetType": "dropdown",
      "defaultValue": "No",
      "label": null,
      "name": "optimize_tables",
      "options": {
       "widgetType": "dropdown",
       "autoCreated": null,
       "choices": [
        "No",
        "Yes"
       ]
      }
     }
    },
    "stop_streams": {
     "currentValue": "No",
     "nuid": "d70a2190-266e-473c-86a7-84f7bf56b386",
     "typedWidgetInfo": {
      "autoCreated": false,
      "defaultValue": "No",
      "label": null,
      "name": "stop_streams",
      "options": {
       "widgetDisplayType": "Dropdown",
       "choices": [
        "No",
        "Yes"
       ],
       "fixedDomain": true,
       "multiselect": false
      },
      "parameterDataType": "String"
     },
     "widgetInfo": {
      "widgetType": "dropdown",
      "defaultValue": "No",
      "label": null,
      "name": "stop_streams",
      "options": {
       "widgetType": "dropdown",
       "autoCreated": null,
       "choices": [
        "No",
        "Yes"
       ]
      }
     }
    }
   }
  },
  "language_info": {
   "name": "python"
  }
 },
 "nbformat": 4,
 "nbformat_minor": 0
}
